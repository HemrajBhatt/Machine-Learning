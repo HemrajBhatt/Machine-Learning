{
 "cells": [
  {
   "cell_type": "markdown",
   "metadata": {},
   "source": [
    "# Training an SVM classifier on the MNIST dataset"
   ]
  },
  {
   "cell_type": "code",
   "execution_count": 1,
   "metadata": {},
   "outputs": [],
   "source": [
    "## importing imp libraries\n",
    "import pandas as pd\n",
    "import numpy as np\n",
    "import matplotlib.pyplot as plt\n",
    "from sklearn.datasets import fetch_openml\n"
   ]
  },
  {
   "cell_type": "code",
   "execution_count": 2,
   "metadata": {},
   "outputs": [
    {
     "data": {
      "text/plain": [
       "dict_keys(['data', 'target', 'feature_names', 'DESCR', 'details', 'categories', 'url'])"
      ]
     },
     "execution_count": 2,
     "metadata": {},
     "output_type": "execute_result"
    }
   ],
   "source": [
    "## loading mnist dataset\n",
    "mnist = fetch_openml('mnist_784', version=1, cache=True)\n",
    "mnist.keys()"
   ]
  },
  {
   "cell_type": "code",
   "execution_count": 3,
   "metadata": {},
   "outputs": [],
   "source": [
    "X = mnist.data\n",
    "y = mnist.target"
   ]
  },
  {
   "cell_type": "code",
   "execution_count": 10,
   "metadata": {},
   "outputs": [],
   "source": [
    "## splitting training and testing data\n",
    "X_train = X[:6000]\n",
    "y_train = y[:6000]\n",
    "X_test =X[6000:7000]\n",
    "y_test =y[6000:7000]"
   ]
  },
  {
   "cell_type": "markdown",
   "metadata": {},
   "source": [
    "Here, I am taking only 7000 datasets because its LinearSVC is taking too long time to train"
   ]
  },
  {
   "cell_type": "code",
   "execution_count": 11,
   "metadata": {},
   "outputs": [
    {
     "name": "stdout",
     "output_type": "stream",
     "text": [
      "X_train, X_test: (6000, 784) (1000, 784)\n",
      "y_train, y_test: (6000,) (1000,)\n"
     ]
    }
   ],
   "source": [
    "print(\"X_train, X_test:\", X_train.shape, X_test.shape)\n",
    "print(\"y_train, y_test:\", y_train.shape, y_test.shape)"
   ]
  },
  {
   "cell_type": "markdown",
   "metadata": {},
   "source": [
    "As, we know that most of the training algorithms are highly sensitive to the order of training instances. Therefore we are required to suffle training data"
   ]
  },
  {
   "cell_type": "code",
   "execution_count": 7,
   "metadata": {},
   "outputs": [],
   "source": [
    "## shuffling the training data\n",
    "np.random.seed(42)\n",
    "rnd_idx = np.random.permutation(600)\n",
    "\n",
    "X_train = X_train[rnd_idx]\n",
    "y_train = y_train[rnd_idx]"
   ]
  },
  {
   "cell_type": "markdown",
   "metadata": {},
   "source": [
    "## Linear SVM classifier\n",
    "\n",
    "It will automatically use the One-vs-All (also called One-vs-the-Rest, OvR) strategy, so there's nothing special we need to do."
   ]
  },
  {
   "cell_type": "code",
   "execution_count": 12,
   "metadata": {},
   "outputs": [
    {
     "name": "stderr",
     "output_type": "stream",
     "text": [
      "C:\\ProgramData\\Anaconda3\\lib\\site-packages\\sklearn\\svm\\base.py:929: ConvergenceWarning: Liblinear failed to converge, increase the number of iterations.\n",
      "  \"the number of iterations.\", ConvergenceWarning)\n"
     ]
    },
    {
     "data": {
      "text/plain": [
       "LinearSVC(C=1.0, class_weight=None, dual=True, fit_intercept=True,\n",
       "          intercept_scaling=1, loss='squared_hinge', max_iter=1000,\n",
       "          multi_class='ovr', penalty='l2', random_state=42, tol=0.0001,\n",
       "          verbose=0)"
      ]
     },
     "execution_count": 12,
     "metadata": {},
     "output_type": "execute_result"
    }
   ],
   "source": [
    "from sklearn.svm import LinearSVC\n",
    "lin_clf = LinearSVC(random_state=42)\n",
    "lin_clf.fit(X_train, y_train)"
   ]
  },
  {
   "cell_type": "markdown",
   "metadata": {},
   "source": [
    "### Predictions on training set and measuring the accuracy"
   ]
  },
  {
   "cell_type": "markdown",
   "metadata": {},
   "source": [
    "\n",
    "Let's make predictions on the training set and measure the accuracy (we don't want to measure it on the test set yet, since we have not selected and trained the final model yet):"
   ]
  },
  {
   "cell_type": "code",
   "execution_count": 13,
   "metadata": {},
   "outputs": [
    {
     "data": {
      "text/plain": [
       "0.9826666666666667"
      ]
     },
     "execution_count": 13,
     "metadata": {},
     "output_type": "execute_result"
    }
   ],
   "source": [
    "from sklearn.metrics import accuracy_score\n",
    "\n",
    "y_pred = lin_clf.predict(X_train)\n",
    "accuracy_score(y_train, y_pred)"
   ]
  },
  {
   "cell_type": "markdown",
   "metadata": {},
   "source": [
    "## Standardizing the training and testing data\n"
   ]
  },
  {
   "cell_type": "code",
   "execution_count": 15,
   "metadata": {},
   "outputs": [],
   "source": [
    "## Standardizing the data\n",
    "from sklearn.preprocessing import StandardScaler\n",
    "\n",
    "scaler = StandardScaler()\n",
    "X_train_scaled = scaler.fit_transform(X_train.astype(np.float32))\n",
    "X_test_scaled = scaler.transform(X_test.astype(np.float32))"
   ]
  },
  {
   "cell_type": "markdown",
   "metadata": {},
   "source": [
    "### Again, training and fitting the data in LinearSVC"
   ]
  },
  {
   "cell_type": "code",
   "execution_count": 16,
   "metadata": {},
   "outputs": [
    {
     "name": "stderr",
     "output_type": "stream",
     "text": [
      "C:\\ProgramData\\Anaconda3\\lib\\site-packages\\sklearn\\svm\\base.py:929: ConvergenceWarning: Liblinear failed to converge, increase the number of iterations.\n",
      "  \"the number of iterations.\", ConvergenceWarning)\n"
     ]
    },
    {
     "data": {
      "text/plain": [
       "LinearSVC(C=1.0, class_weight=None, dual=True, fit_intercept=True,\n",
       "          intercept_scaling=1, loss='squared_hinge', max_iter=1000,\n",
       "          multi_class='ovr', penalty='l2', random_state=42, tol=0.0001,\n",
       "          verbose=0)"
      ]
     },
     "execution_count": 16,
     "metadata": {},
     "output_type": "execute_result"
    }
   ],
   "source": [
    "lin_clf = LinearSVC(random_state=42)\n",
    "lin_clf.fit(X_train_scaled, y_train)\n",
    "\n",
    "\n"
   ]
  },
  {
   "cell_type": "code",
   "execution_count": 17,
   "metadata": {},
   "outputs": [
    {
     "data": {
      "text/plain": [
       "0.9971666666666666"
      ]
     },
     "execution_count": 17,
     "metadata": {},
     "output_type": "execute_result"
    }
   ],
   "source": [
    "y_pred_scaled = lin_clf.predict(X_train_scaled)\n",
    "accuracy_score(y_train, y_pred_scaled)"
   ]
  },
  {
   "cell_type": "markdown",
   "metadata": {},
   "source": [
    "That's much better (we cut the error rate in two), but still not great at all for MNIST. If we want to use an SVM, we will have to use a kernel. Let's try an SVC with an RBF kernel (the default)."
   ]
  },
  {
   "cell_type": "markdown",
   "metadata": {},
   "source": [
    "### Training with SVC with an RBF kernel"
   ]
  },
  {
   "cell_type": "code",
   "execution_count": 22,
   "metadata": {},
   "outputs": [
    {
     "data": {
      "text/plain": [
       "SVC(C=1.0, cache_size=200, class_weight=None, coef0=0.0,\n",
       "    decision_function_shape='ovr', degree=3, gamma='auto', kernel='rbf',\n",
       "    max_iter=-1, probability=False, random_state=None, shrinking=True,\n",
       "    tol=0.001, verbose=False)"
      ]
     },
     "execution_count": 22,
     "metadata": {},
     "output_type": "execute_result"
    }
   ],
   "source": [
    "from sklearn.svm import SVC\n",
    "\n",
    "svm_clf = SVC(decision_function_shape = \"ovr\", gamma ='auto')\n",
    "svm_clf.fit(X_train_scaled, y_train)"
   ]
  },
  {
   "cell_type": "code",
   "execution_count": 23,
   "metadata": {},
   "outputs": [
    {
     "data": {
      "text/plain": [
       "0.9806666666666667"
      ]
     },
     "execution_count": 23,
     "metadata": {},
     "output_type": "execute_result"
    }
   ],
   "source": [
    "y_pred_SVC = svm_clf.predict(X_train_scaled)\n",
    "accuracy_score(y_train, y_pred_SVC)\n"
   ]
  },
  {
   "cell_type": "markdown",
   "metadata": {},
   "source": [
    "### Now, let's tune the hyperparameters by doing a randomized search with cross validation."
   ]
  },
  {
   "cell_type": "code",
   "execution_count": 24,
   "metadata": {},
   "outputs": [],
   "source": [
    "from sklearn.model_selection import RandomizedSearchCV\n",
    "from scipy.stats import reciprocal, uniform\n"
   ]
  },
  {
   "cell_type": "code",
   "execution_count": 25,
   "metadata": {},
   "outputs": [
    {
     "name": "stdout",
     "output_type": "stream",
     "text": [
      "Fitting 3 folds for each of 10 candidates, totalling 30 fits\n",
      "[CV] C=9.369638742373738, gamma=0.05416732770780322 ..................\n"
     ]
    },
    {
     "name": "stderr",
     "output_type": "stream",
     "text": [
      "[Parallel(n_jobs=1)]: Using backend SequentialBackend with 1 concurrent workers.\n"
     ]
    },
    {
     "name": "stdout",
     "output_type": "stream",
     "text": [
      "[CV] ... C=9.369638742373738, gamma=0.05416732770780322, total=  40.2s\n",
      "[CV] C=9.369638742373738, gamma=0.05416732770780322 ..................\n"
     ]
    },
    {
     "name": "stderr",
     "output_type": "stream",
     "text": [
      "[Parallel(n_jobs=1)]: Done   1 out of   1 | elapsed:   40.1s remaining:    0.0s\n"
     ]
    },
    {
     "name": "stdout",
     "output_type": "stream",
     "text": [
      "[CV] ... C=9.369638742373738, gamma=0.05416732770780322, total=  39.5s\n",
      "[CV] C=9.369638742373738, gamma=0.05416732770780322 ..................\n",
      "[CV] ... C=9.369638742373738, gamma=0.05416732770780322, total=  38.5s\n",
      "[CV] C=9.38480763763985, gamma=0.007115131812629816 ..................\n",
      "[CV] ... C=9.38480763763985, gamma=0.007115131812629816, total=  32.7s\n",
      "[CV] C=9.38480763763985, gamma=0.007115131812629816 ..................\n",
      "[CV] ... C=9.38480763763985, gamma=0.007115131812629816, total=  34.1s\n",
      "[CV] C=9.38480763763985, gamma=0.007115131812629816 ..................\n",
      "[CV] ... C=9.38480763763985, gamma=0.007115131812629816, total=  32.6s\n",
      "[CV] C=3.2257641757103053, gamma=0.006213026470310396 ................\n",
      "[CV] . C=3.2257641757103053, gamma=0.006213026470310396, total=  30.6s\n",
      "[CV] C=3.2257641757103053, gamma=0.006213026470310396 ................\n",
      "[CV] . C=3.2257641757103053, gamma=0.006213026470310396, total=  31.3s\n",
      "[CV] C=3.2257641757103053, gamma=0.006213026470310396 ................\n",
      "[CV] . C=3.2257641757103053, gamma=0.006213026470310396, total=  30.9s\n",
      "[CV] C=9.918969087767767, gamma=0.001964308262295563 .................\n",
      "[CV] .. C=9.918969087767767, gamma=0.001964308262295563, total=  13.4s\n",
      "[CV] C=9.918969087767767, gamma=0.001964308262295563 .................\n",
      "[CV] .. C=9.918969087767767, gamma=0.001964308262295563, total=  14.7s\n",
      "[CV] C=9.918969087767767, gamma=0.001964308262295563 .................\n",
      "[CV] .. C=9.918969087767767, gamma=0.001964308262295563, total=  13.5s\n",
      "[CV] C=6.1332616869239285, gamma=0.002927225264602588 ................\n",
      "[CV] . C=6.1332616869239285, gamma=0.002927225264602588, total=  17.8s\n",
      "[CV] C=6.1332616869239285, gamma=0.002927225264602588 ................\n",
      "[CV] . C=6.1332616869239285, gamma=0.002927225264602588, total=  18.0s\n",
      "[CV] C=6.1332616869239285, gamma=0.002927225264602588 ................\n",
      "[CV] . C=6.1332616869239285, gamma=0.002927225264602588, total=  17.1s\n",
      "[CV] C=6.813054172267823, gamma=0.05324478086395736 ..................\n",
      "[CV] ... C=6.813054172267823, gamma=0.05324478086395736, total=  36.7s\n",
      "[CV] C=6.813054172267823, gamma=0.05324478086395736 ..................\n",
      "[CV] ... C=6.813054172267823, gamma=0.05324478086395736, total=  37.6s\n",
      "[CV] C=6.813054172267823, gamma=0.05324478086395736 ..................\n",
      "[CV] ... C=6.813054172267823, gamma=0.05324478086395736, total=  37.1s\n",
      "[CV] C=9.803599686384167, gamma=0.002974201493456478 .................\n",
      "[CV] .. C=9.803599686384167, gamma=0.002974201493456478, total=  17.1s\n",
      "[CV] C=9.803599686384167, gamma=0.002974201493456478 .................\n",
      "[CV] .. C=9.803599686384167, gamma=0.002974201493456478, total=  17.7s\n",
      "[CV] C=9.803599686384167, gamma=0.002974201493456478 .................\n",
      "[CV] .. C=9.803599686384167, gamma=0.002974201493456478, total=  17.2s\n",
      "[CV] C=10.076937063485463, gamma=0.015267835695201175 ................\n",
      "[CV] . C=10.076937063485463, gamma=0.015267835695201175, total=  36.9s\n",
      "[CV] C=10.076937063485463, gamma=0.015267835695201175 ................\n",
      "[CV] . C=10.076937063485463, gamma=0.015267835695201175, total=  36.4s\n",
      "[CV] C=10.076937063485463, gamma=0.015267835695201175 ................\n",
      "[CV] . C=10.076937063485463, gamma=0.015267835695201175, total=  34.3s\n",
      "[CV] C=4.502182467003135, gamma=0.026083291272036003 .................\n",
      "[CV] .. C=4.502182467003135, gamma=0.026083291272036003, total=  37.1s\n",
      "[CV] C=4.502182467003135, gamma=0.026083291272036003 .................\n",
      "[CV] .. C=4.502182467003135, gamma=0.026083291272036003, total=  36.6s\n",
      "[CV] C=4.502182467003135, gamma=0.026083291272036003 .................\n",
      "[CV] .. C=4.502182467003135, gamma=0.026083291272036003, total=  37.2s\n",
      "[CV] C=5.816669879641154, gamma=0.005701316885523018 .................\n",
      "[CV] .. C=5.816669879641154, gamma=0.005701316885523018, total=  27.9s\n",
      "[CV] C=5.816669879641154, gamma=0.005701316885523018 .................\n",
      "[CV] .. C=5.816669879641154, gamma=0.005701316885523018, total=  28.7s\n",
      "[CV] C=5.816669879641154, gamma=0.005701316885523018 .................\n",
      "[CV] .. C=5.816669879641154, gamma=0.005701316885523018, total=  28.3s\n"
     ]
    },
    {
     "name": "stderr",
     "output_type": "stream",
     "text": [
      "[Parallel(n_jobs=1)]: Done  30 out of  30 | elapsed: 14.5min finished\n"
     ]
    },
    {
     "data": {
      "text/plain": [
       "RandomizedSearchCV(cv=3, error_score='raise-deprecating',\n",
       "                   estimator=SVC(C=1.0, cache_size=200, class_weight=None,\n",
       "                                 coef0=0.0, decision_function_shape='ovr',\n",
       "                                 degree=3, gamma='auto', kernel='rbf',\n",
       "                                 max_iter=-1, probability=False,\n",
       "                                 random_state=None, shrinking=True, tol=0.001,\n",
       "                                 verbose=False),\n",
       "                   iid='warn', n_iter=10, n_jobs=None,\n",
       "                   param_distributions={'C': <scipy.stats._distn_infrastructure.rv_frozen object at 0x000001E927690E88>,\n",
       "                                        'gamma': <scipy.stats._distn_infrastructure.rv_frozen object at 0x000001E91B596A48>},\n",
       "                   pre_dispatch='2*n_jobs', random_state=None, refit=True,\n",
       "                   return_train_score=False, scoring=None, verbose=2)"
      ]
     },
     "execution_count": 25,
     "metadata": {},
     "output_type": "execute_result"
    }
   ],
   "source": [
    "param_distributions = {\"gamma\": reciprocal(0.001, 0.1), \"C\": uniform(1, 10)}\n",
    "rnd_search_cv = RandomizedSearchCV(svm_clf, param_distributions, n_iter=10, verbose=2, cv=3)\n",
    "rnd_search_cv.fit(X_train_scaled, y_train)"
   ]
  },
  {
   "cell_type": "code",
   "execution_count": 26,
   "metadata": {},
   "outputs": [
    {
     "data": {
      "text/plain": [
       "SVC(C=9.918969087767767, cache_size=200, class_weight=None, coef0=0.0,\n",
       "    decision_function_shape='ovr', degree=3, gamma=0.001964308262295563,\n",
       "    kernel='rbf', max_iter=-1, probability=False, random_state=None,\n",
       "    shrinking=True, tol=0.001, verbose=False)"
      ]
     },
     "execution_count": 26,
     "metadata": {},
     "output_type": "execute_result"
    }
   ],
   "source": [
    "rnd_search_cv.best_estimator_\n"
   ]
  },
  {
   "cell_type": "code",
   "execution_count": 27,
   "metadata": {},
   "outputs": [
    {
     "data": {
      "text/plain": [
       "0.9251666666666667"
      ]
     },
     "execution_count": 27,
     "metadata": {},
     "output_type": "execute_result"
    }
   ],
   "source": [
    "rnd_search_cv.best_score_\n"
   ]
  },
  {
   "cell_type": "code",
   "execution_count": 28,
   "metadata": {},
   "outputs": [
    {
     "data": {
      "text/plain": [
       "SVC(C=9.918969087767767, cache_size=200, class_weight=None, coef0=0.0,\n",
       "    decision_function_shape='ovr', degree=3, gamma=0.001964308262295563,\n",
       "    kernel='rbf', max_iter=-1, probability=False, random_state=None,\n",
       "    shrinking=True, tol=0.001, verbose=False)"
      ]
     },
     "execution_count": 28,
     "metadata": {},
     "output_type": "execute_result"
    }
   ],
   "source": [
    "rnd_search_cv.best_estimator_.fit(X_train_scaled, y_train)\n"
   ]
  },
  {
   "cell_type": "code",
   "execution_count": 29,
   "metadata": {},
   "outputs": [
    {
     "data": {
      "text/plain": [
       "1.0"
      ]
     },
     "execution_count": 29,
     "metadata": {},
     "output_type": "execute_result"
    }
   ],
   "source": [
    "y_pred = rnd_search_cv.best_estimator_.predict(X_train_scaled)\n",
    "accuracy_score(y_train, y_pred)"
   ]
  },
  {
   "cell_type": "markdown",
   "metadata": {},
   "source": [
    "Not too bad, but apparently the model is overfitting slightly. It's tempting to tweak the hyperparameters a bit more (e.g. decreasing C and/or gamma), but we would run the risk of overfitting the test set.\n",
    "\n"
   ]
  }
 ],
 "metadata": {
  "kernelspec": {
   "display_name": "Python 3",
   "language": "python",
   "name": "python3"
  },
  "language_info": {
   "codemirror_mode": {
    "name": "ipython",
    "version": 3
   },
   "file_extension": ".py",
   "mimetype": "text/x-python",
   "name": "python",
   "nbconvert_exporter": "python",
   "pygments_lexer": "ipython3",
   "version": "3.7.4"
  }
 },
 "nbformat": 4,
 "nbformat_minor": 2
}
