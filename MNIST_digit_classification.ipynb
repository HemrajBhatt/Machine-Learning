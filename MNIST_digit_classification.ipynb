{
  "nbformat": 4,
  "nbformat_minor": 0,
  "metadata": {
    "colab": {
      "name": "MNIST_digit_classification.ipynb",
      "provenance": []
    },
    "kernelspec": {
      "name": "python3",
      "display_name": "Python 3"
    }
  },
  "cells": [
    {
      "cell_type": "code",
      "metadata": {
        "id": "Pn0c6kZOdhT4",
        "colab_type": "code",
        "colab": {
          "base_uri": "https://localhost:8080/",
          "height": 34
        },
        "outputId": "9b3c48d7-ae81-4366-d1e9-336d09abae1d"
      },
      "source": [
        "import keras"
      ],
      "execution_count": 5,
      "outputs": [
        {
          "output_type": "stream",
          "text": [
            "Using TensorFlow backend.\n"
          ],
          "name": "stderr"
        }
      ]
    },
    {
      "cell_type": "code",
      "metadata": {
        "id": "7hLNKtqqdkjA",
        "colab_type": "code",
        "colab": {
          "base_uri": "https://localhost:8080/",
          "height": 51
        },
        "outputId": "23013b1f-92ba-4b11-9f20-aaab21ec74f6"
      },
      "source": [
        "! pip install mnist\n",
        "import mnist"
      ],
      "execution_count": 12,
      "outputs": [
        {
          "output_type": "stream",
          "text": [
            "Requirement already satisfied: mnist in /usr/local/lib/python3.6/dist-packages (0.2.2)\n",
            "Requirement already satisfied: numpy in /usr/local/lib/python3.6/dist-packages (from mnist) (1.16.5)\n"
          ],
          "name": "stdout"
        }
      ]
    },
    {
      "cell_type": "code",
      "metadata": {
        "id": "COd1ad7Odknw",
        "colab_type": "code",
        "colab": {}
      },
      "source": [
        "import numpy as np\n",
        "import tensorflow"
      ],
      "execution_count": 0,
      "outputs": []
    },
    {
      "cell_type": "code",
      "metadata": {
        "id": "dZDGVt9Gdkqj",
        "colab_type": "code",
        "colab": {}
      },
      "source": [
        "from keras.models import Sequential\n",
        "from keras.layers import Dense\n",
        "from keras.utils import to_categorical"
      ],
      "execution_count": 0,
      "outputs": []
    },
    {
      "cell_type": "code",
      "metadata": {
        "id": "wAS3KqxreBhk",
        "colab_type": "code",
        "colab": {}
      },
      "source": [
        "train_images = mnist.train_images()\n",
        "train_labels = mnist.train_labels()\n"
      ],
      "execution_count": 0,
      "outputs": []
    },
    {
      "cell_type": "code",
      "metadata": {
        "id": "BEvt8_p9B4Hw",
        "colab_type": "code",
        "colab": {
          "base_uri": "https://localhost:8080/",
          "height": 850
        },
        "outputId": "2b8469ef-5add-4cda-fb3e-b98102cf3825"
      },
      "source": [
        "print(train_images)"
      ],
      "execution_count": 17,
      "outputs": [
        {
          "output_type": "stream",
          "text": [
            "[[[0 0 0 ... 0 0 0]\n",
            "  [0 0 0 ... 0 0 0]\n",
            "  [0 0 0 ... 0 0 0]\n",
            "  ...\n",
            "  [0 0 0 ... 0 0 0]\n",
            "  [0 0 0 ... 0 0 0]\n",
            "  [0 0 0 ... 0 0 0]]\n",
            "\n",
            " [[0 0 0 ... 0 0 0]\n",
            "  [0 0 0 ... 0 0 0]\n",
            "  [0 0 0 ... 0 0 0]\n",
            "  ...\n",
            "  [0 0 0 ... 0 0 0]\n",
            "  [0 0 0 ... 0 0 0]\n",
            "  [0 0 0 ... 0 0 0]]\n",
            "\n",
            " [[0 0 0 ... 0 0 0]\n",
            "  [0 0 0 ... 0 0 0]\n",
            "  [0 0 0 ... 0 0 0]\n",
            "  ...\n",
            "  [0 0 0 ... 0 0 0]\n",
            "  [0 0 0 ... 0 0 0]\n",
            "  [0 0 0 ... 0 0 0]]\n",
            "\n",
            " ...\n",
            "\n",
            " [[0 0 0 ... 0 0 0]\n",
            "  [0 0 0 ... 0 0 0]\n",
            "  [0 0 0 ... 0 0 0]\n",
            "  ...\n",
            "  [0 0 0 ... 0 0 0]\n",
            "  [0 0 0 ... 0 0 0]\n",
            "  [0 0 0 ... 0 0 0]]\n",
            "\n",
            " [[0 0 0 ... 0 0 0]\n",
            "  [0 0 0 ... 0 0 0]\n",
            "  [0 0 0 ... 0 0 0]\n",
            "  ...\n",
            "  [0 0 0 ... 0 0 0]\n",
            "  [0 0 0 ... 0 0 0]\n",
            "  [0 0 0 ... 0 0 0]]\n",
            "\n",
            " [[0 0 0 ... 0 0 0]\n",
            "  [0 0 0 ... 0 0 0]\n",
            "  [0 0 0 ... 0 0 0]\n",
            "  ...\n",
            "  [0 0 0 ... 0 0 0]\n",
            "  [0 0 0 ... 0 0 0]\n",
            "  [0 0 0 ... 0 0 0]]]\n"
          ],
          "name": "stdout"
        }
      ]
    },
    {
      "cell_type": "code",
      "metadata": {
        "id": "MWph4hNgeBn4",
        "colab_type": "code",
        "colab": {
          "base_uri": "https://localhost:8080/",
          "height": 51
        },
        "outputId": "3d489064-aceb-4c2b-8eb4-3cb9ab72c3f1"
      },
      "source": [
        "print(train_images.shape)\n",
        "print(train_labels.shape)"
      ],
      "execution_count": 18,
      "outputs": [
        {
          "output_type": "stream",
          "text": [
            "(60000, 28, 28)\n",
            "(60000,)\n"
          ],
          "name": "stdout"
        }
      ]
    },
    {
      "cell_type": "code",
      "metadata": {
        "id": "AY2If0FYdkl-",
        "colab_type": "code",
        "colab": {}
      },
      "source": [
        "train_images = mnist.train_images()\n",
        "train_labels = mnist.train_labels()\n",
        "test_images = mnist.test_images()\n",
        "test_labels = mnist.test_labels()"
      ],
      "execution_count": 0,
      "outputs": []
    },
    {
      "cell_type": "code",
      "metadata": {
        "id": "2KGkzq9VBeQX",
        "colab_type": "code",
        "colab": {}
      },
      "source": [
        "##   Normalizing the image because using smaller and centralized value is better\n",
        "train_images = (train_images)/255-0.5\n",
        "test_images = (test_images)/255-0.5"
      ],
      "execution_count": 0,
      "outputs": []
    },
    {
      "cell_type": "code",
      "metadata": {
        "id": "puEni3DPBeWD",
        "colab_type": "code",
        "colab": {
          "base_uri": "https://localhost:8080/",
          "height": 850
        },
        "outputId": "9622e67a-eedb-4122-dfb6-16ff46797460"
      },
      "source": [
        "\n",
        "print(train_images)"
      ],
      "execution_count": 21,
      "outputs": [
        {
          "output_type": "stream",
          "text": [
            "[[[-0.5 -0.5 -0.5 ... -0.5 -0.5 -0.5]\n",
            "  [-0.5 -0.5 -0.5 ... -0.5 -0.5 -0.5]\n",
            "  [-0.5 -0.5 -0.5 ... -0.5 -0.5 -0.5]\n",
            "  ...\n",
            "  [-0.5 -0.5 -0.5 ... -0.5 -0.5 -0.5]\n",
            "  [-0.5 -0.5 -0.5 ... -0.5 -0.5 -0.5]\n",
            "  [-0.5 -0.5 -0.5 ... -0.5 -0.5 -0.5]]\n",
            "\n",
            " [[-0.5 -0.5 -0.5 ... -0.5 -0.5 -0.5]\n",
            "  [-0.5 -0.5 -0.5 ... -0.5 -0.5 -0.5]\n",
            "  [-0.5 -0.5 -0.5 ... -0.5 -0.5 -0.5]\n",
            "  ...\n",
            "  [-0.5 -0.5 -0.5 ... -0.5 -0.5 -0.5]\n",
            "  [-0.5 -0.5 -0.5 ... -0.5 -0.5 -0.5]\n",
            "  [-0.5 -0.5 -0.5 ... -0.5 -0.5 -0.5]]\n",
            "\n",
            " [[-0.5 -0.5 -0.5 ... -0.5 -0.5 -0.5]\n",
            "  [-0.5 -0.5 -0.5 ... -0.5 -0.5 -0.5]\n",
            "  [-0.5 -0.5 -0.5 ... -0.5 -0.5 -0.5]\n",
            "  ...\n",
            "  [-0.5 -0.5 -0.5 ... -0.5 -0.5 -0.5]\n",
            "  [-0.5 -0.5 -0.5 ... -0.5 -0.5 -0.5]\n",
            "  [-0.5 -0.5 -0.5 ... -0.5 -0.5 -0.5]]\n",
            "\n",
            " ...\n",
            "\n",
            " [[-0.5 -0.5 -0.5 ... -0.5 -0.5 -0.5]\n",
            "  [-0.5 -0.5 -0.5 ... -0.5 -0.5 -0.5]\n",
            "  [-0.5 -0.5 -0.5 ... -0.5 -0.5 -0.5]\n",
            "  ...\n",
            "  [-0.5 -0.5 -0.5 ... -0.5 -0.5 -0.5]\n",
            "  [-0.5 -0.5 -0.5 ... -0.5 -0.5 -0.5]\n",
            "  [-0.5 -0.5 -0.5 ... -0.5 -0.5 -0.5]]\n",
            "\n",
            " [[-0.5 -0.5 -0.5 ... -0.5 -0.5 -0.5]\n",
            "  [-0.5 -0.5 -0.5 ... -0.5 -0.5 -0.5]\n",
            "  [-0.5 -0.5 -0.5 ... -0.5 -0.5 -0.5]\n",
            "  ...\n",
            "  [-0.5 -0.5 -0.5 ... -0.5 -0.5 -0.5]\n",
            "  [-0.5 -0.5 -0.5 ... -0.5 -0.5 -0.5]\n",
            "  [-0.5 -0.5 -0.5 ... -0.5 -0.5 -0.5]]\n",
            "\n",
            " [[-0.5 -0.5 -0.5 ... -0.5 -0.5 -0.5]\n",
            "  [-0.5 -0.5 -0.5 ... -0.5 -0.5 -0.5]\n",
            "  [-0.5 -0.5 -0.5 ... -0.5 -0.5 -0.5]\n",
            "  ...\n",
            "  [-0.5 -0.5 -0.5 ... -0.5 -0.5 -0.5]\n",
            "  [-0.5 -0.5 -0.5 ... -0.5 -0.5 -0.5]\n",
            "  [-0.5 -0.5 -0.5 ... -0.5 -0.5 -0.5]]]\n"
          ],
          "name": "stdout"
        }
      ]
    },
    {
      "cell_type": "code",
      "metadata": {
        "id": "7G25msKJBeur",
        "colab_type": "code",
        "colab": {
          "base_uri": "https://localhost:8080/",
          "height": 850
        },
        "outputId": "f4fdc21c-0224-446b-973a-c155f69efd5c"
      },
      "source": [
        "print(test_images)"
      ],
      "execution_count": 49,
      "outputs": [
        {
          "output_type": "stream",
          "text": [
            "[[[-0.5 -0.5 -0.5 ... -0.5 -0.5 -0.5]\n",
            "  [-0.5 -0.5 -0.5 ... -0.5 -0.5 -0.5]\n",
            "  [-0.5 -0.5 -0.5 ... -0.5 -0.5 -0.5]\n",
            "  ...\n",
            "  [-0.5 -0.5 -0.5 ... -0.5 -0.5 -0.5]\n",
            "  [-0.5 -0.5 -0.5 ... -0.5 -0.5 -0.5]\n",
            "  [-0.5 -0.5 -0.5 ... -0.5 -0.5 -0.5]]\n",
            "\n",
            " [[-0.5 -0.5 -0.5 ... -0.5 -0.5 -0.5]\n",
            "  [-0.5 -0.5 -0.5 ... -0.5 -0.5 -0.5]\n",
            "  [-0.5 -0.5 -0.5 ... -0.5 -0.5 -0.5]\n",
            "  ...\n",
            "  [-0.5 -0.5 -0.5 ... -0.5 -0.5 -0.5]\n",
            "  [-0.5 -0.5 -0.5 ... -0.5 -0.5 -0.5]\n",
            "  [-0.5 -0.5 -0.5 ... -0.5 -0.5 -0.5]]\n",
            "\n",
            " [[-0.5 -0.5 -0.5 ... -0.5 -0.5 -0.5]\n",
            "  [-0.5 -0.5 -0.5 ... -0.5 -0.5 -0.5]\n",
            "  [-0.5 -0.5 -0.5 ... -0.5 -0.5 -0.5]\n",
            "  ...\n",
            "  [-0.5 -0.5 -0.5 ... -0.5 -0.5 -0.5]\n",
            "  [-0.5 -0.5 -0.5 ... -0.5 -0.5 -0.5]\n",
            "  [-0.5 -0.5 -0.5 ... -0.5 -0.5 -0.5]]\n",
            "\n",
            " ...\n",
            "\n",
            " [[-0.5 -0.5 -0.5 ... -0.5 -0.5 -0.5]\n",
            "  [-0.5 -0.5 -0.5 ... -0.5 -0.5 -0.5]\n",
            "  [-0.5 -0.5 -0.5 ... -0.5 -0.5 -0.5]\n",
            "  ...\n",
            "  [-0.5 -0.5 -0.5 ... -0.5 -0.5 -0.5]\n",
            "  [-0.5 -0.5 -0.5 ... -0.5 -0.5 -0.5]\n",
            "  [-0.5 -0.5 -0.5 ... -0.5 -0.5 -0.5]]\n",
            "\n",
            " [[-0.5 -0.5 -0.5 ... -0.5 -0.5 -0.5]\n",
            "  [-0.5 -0.5 -0.5 ... -0.5 -0.5 -0.5]\n",
            "  [-0.5 -0.5 -0.5 ... -0.5 -0.5 -0.5]\n",
            "  ...\n",
            "  [-0.5 -0.5 -0.5 ... -0.5 -0.5 -0.5]\n",
            "  [-0.5 -0.5 -0.5 ... -0.5 -0.5 -0.5]\n",
            "  [-0.5 -0.5 -0.5 ... -0.5 -0.5 -0.5]]\n",
            "\n",
            " [[-0.5 -0.5 -0.5 ... -0.5 -0.5 -0.5]\n",
            "  [-0.5 -0.5 -0.5 ... -0.5 -0.5 -0.5]\n",
            "  [-0.5 -0.5 -0.5 ... -0.5 -0.5 -0.5]\n",
            "  ...\n",
            "  [-0.5 -0.5 -0.5 ... -0.5 -0.5 -0.5]\n",
            "  [-0.5 -0.5 -0.5 ... -0.5 -0.5 -0.5]\n",
            "  [-0.5 -0.5 -0.5 ... -0.5 -0.5 -0.5]]]\n"
          ],
          "name": "stdout"
        }
      ]
    },
    {
      "cell_type": "code",
      "metadata": {
        "id": "R_IQefr4BexF",
        "colab_type": "code",
        "colab": {
          "base_uri": "https://localhost:8080/",
          "height": 34
        },
        "outputId": "9365e6c9-f106-465c-e58b-93c8f9031e4b"
      },
      "source": [
        "print(train_images.shape)"
      ],
      "execution_count": 22,
      "outputs": [
        {
          "output_type": "stream",
          "text": [
            "(60000, 28, 28)\n"
          ],
          "name": "stdout"
        }
      ]
    },
    {
      "cell_type": "code",
      "metadata": {
        "id": "QIx4PK5SBeTE",
        "colab_type": "code",
        "colab": {
          "base_uri": "https://localhost:8080/",
          "height": 34
        },
        "outputId": "68775e02-5cfc-4886-be35-c91aff37743c"
      },
      "source": [
        "print(test_images.shape)"
      ],
      "execution_count": 23,
      "outputs": [
        {
          "output_type": "stream",
          "text": [
            "(10000, 28, 28)\n"
          ],
          "name": "stdout"
        }
      ]
    },
    {
      "cell_type": "code",
      "metadata": {
        "id": "CqYZkhoTDuHH",
        "colab_type": "code",
        "colab": {}
      },
      "source": [
        "# Flatten the image"
      ],
      "execution_count": 0,
      "outputs": []
    },
    {
      "cell_type": "code",
      "metadata": {
        "id": "mwz5mlvVDuEs",
        "colab_type": "code",
        "colab": {}
      },
      "source": [
        "train_images = train_images.reshape((-1,784))\n",
        "test_images = test_images.reshape((-1,784))"
      ],
      "execution_count": 0,
      "outputs": []
    },
    {
      "cell_type": "code",
      "metadata": {
        "id": "olrJOI7GDuCW",
        "colab_type": "code",
        "colab": {
          "base_uri": "https://localhost:8080/",
          "height": 51
        },
        "outputId": "26ae8bfb-9add-48f5-bb05-31396c192fee"
      },
      "source": [
        "print(train_images.shape)\n",
        "print(test_images.shape)"
      ],
      "execution_count": 26,
      "outputs": [
        {
          "output_type": "stream",
          "text": [
            "(60000, 784)\n",
            "(10000, 784)\n"
          ],
          "name": "stdout"
        }
      ]
    },
    {
      "cell_type": "code",
      "metadata": {
        "id": "wMNOZUWBDuAD",
        "colab_type": "code",
        "colab": {
          "base_uri": "https://localhost:8080/",
          "height": 71
        },
        "outputId": "970f4e20-6bcf-49c7-b926-57a6af30503f"
      },
      "source": [
        "# Building the model\n",
        "model = Sequential ([\n",
        "    Dense(64, activation = 'relu'),\n",
        "    Dense(64, activation = 'relu'),\n",
        "    Dense(10, activation = 'softmax'),\n",
        "])"
      ],
      "execution_count": 27,
      "outputs": [
        {
          "output_type": "stream",
          "text": [
            "WARNING:tensorflow:From /usr/local/lib/python3.6/dist-packages/keras/backend/tensorflow_backend.py:66: The name tf.get_default_graph is deprecated. Please use tf.compat.v1.get_default_graph instead.\n",
            "\n"
          ],
          "name": "stdout"
        }
      ]
    },
    {
      "cell_type": "code",
      "metadata": {
        "id": "yH9OtzLlMaqM",
        "colab_type": "code",
        "colab": {
          "base_uri": "https://localhost:8080/",
          "height": 71
        },
        "outputId": "4dc5304b-89d6-4d33-a43a-f06dacefe66e"
      },
      "source": [
        "## Compiling the model\n",
        "model.compile(\n",
        "optimizer = 'adam',\n",
        "loss = 'categorical_crossentropy',\n",
        "metrics = ['accuracy'],\n",
        ")"
      ],
      "execution_count": 42,
      "outputs": [
        {
          "output_type": "stream",
          "text": [
            "WARNING:tensorflow:From /usr/local/lib/python3.6/dist-packages/keras/backend/tensorflow_backend.py:3576: The name tf.log is deprecated. Please use tf.math.log instead.\n",
            "\n"
          ],
          "name": "stdout"
        }
      ]
    },
    {
      "cell_type": "code",
      "metadata": {
        "id": "wpOA40JqMav3",
        "colab_type": "code",
        "colab": {
          "base_uri": "https://localhost:8080/",
          "height": 309
        },
        "outputId": "1ba9db01-0941-491e-c941-8860214bb8ce"
      },
      "source": [
        "## Training the model\n",
        "model.fit(\n",
        "  train_images,\n",
        "  to_categorical(train_labels),\n",
        "  epochs=5,\n",
        "  batch_size=32,\n",
        ")"
      ],
      "execution_count": 43,
      "outputs": [
        {
          "output_type": "stream",
          "text": [
            "WARNING:tensorflow:From /usr/local/lib/python3.6/dist-packages/tensorflow/python/ops/math_grad.py:1250: add_dispatch_support.<locals>.wrapper (from tensorflow.python.ops.array_ops) is deprecated and will be removed in a future version.\n",
            "Instructions for updating:\n",
            "Use tf.where in 2.0, which has the same broadcast rule as np.where\n",
            "WARNING:tensorflow:From /usr/local/lib/python3.6/dist-packages/keras/backend/tensorflow_backend.py:1033: The name tf.assign_add is deprecated. Please use tf.compat.v1.assign_add instead.\n",
            "\n",
            "Epoch 1/5\n",
            "60000/60000 [==============================] - 4s 68us/step - loss: 0.3458 - acc: 0.8966\n",
            "Epoch 2/5\n",
            "60000/60000 [==============================] - 3s 56us/step - loss: 0.1825 - acc: 0.9444\n",
            "Epoch 3/5\n",
            "60000/60000 [==============================] - 3s 57us/step - loss: 0.1398 - acc: 0.9572\n",
            "Epoch 4/5\n",
            "60000/60000 [==============================] - 4s 59us/step - loss: 0.1178 - acc: 0.9638\n",
            "Epoch 5/5\n",
            "60000/60000 [==============================] - 3s 57us/step - loss: 0.1009 - acc: 0.9681\n"
          ],
          "name": "stdout"
        },
        {
          "output_type": "execute_result",
          "data": {
            "text/plain": [
              "<keras.callbacks.History at 0x7f66b4ca1400>"
            ]
          },
          "metadata": {
            "tags": []
          },
          "execution_count": 43
        }
      ]
    },
    {
      "cell_type": "code",
      "metadata": {
        "id": "df2sldb8MbAE",
        "colab_type": "code",
        "colab": {
          "base_uri": "https://localhost:8080/",
          "height": 51
        },
        "outputId": "d17c0f5f-798d-4c70-c662-76a818349942"
      },
      "source": [
        "##Testing the  model\n",
        "model.evaluate(\n",
        "test_images,\n",
        "to_categorical(test_labels)\n",
        ")"
      ],
      "execution_count": 44,
      "outputs": [
        {
          "output_type": "stream",
          "text": [
            "10000/10000 [==============================] - 0s 25us/step\n"
          ],
          "name": "stdout"
        },
        {
          "output_type": "execute_result",
          "data": {
            "text/plain": [
              "[0.11897980146324262, 0.963]"
            ]
          },
          "metadata": {
            "tags": []
          },
          "execution_count": 44
        }
      ]
    },
    {
      "cell_type": "code",
      "metadata": {
        "id": "9sTuobayMbDN",
        "colab_type": "code",
        "colab": {
          "base_uri": "https://localhost:8080/",
          "height": 1000
        },
        "outputId": "d4ba8cbe-6d87-4268-b7a1-dc37b6c9d1d2"
      },
      "source": [
        "test_images[0].reshape((28,28))\n"
      ],
      "execution_count": 45,
      "outputs": [
        {
          "output_type": "execute_result",
          "data": {
            "text/plain": [
              "array([[-0.5       , -0.5       , -0.5       , -0.5       , -0.5       ,\n",
              "        -0.5       , -0.5       , -0.5       , -0.5       , -0.5       ,\n",
              "        -0.5       , -0.5       , -0.5       , -0.5       , -0.5       ,\n",
              "        -0.5       , -0.5       , -0.5       , -0.5       , -0.5       ,\n",
              "        -0.5       , -0.5       , -0.5       , -0.5       , -0.5       ,\n",
              "        -0.5       , -0.5       , -0.5       ],\n",
              "       [-0.5       , -0.5       , -0.5       , -0.5       , -0.5       ,\n",
              "        -0.5       , -0.5       , -0.5       , -0.5       , -0.5       ,\n",
              "        -0.5       , -0.5       , -0.5       , -0.5       , -0.5       ,\n",
              "        -0.5       , -0.5       , -0.5       , -0.5       , -0.5       ,\n",
              "        -0.5       , -0.5       , -0.5       , -0.5       , -0.5       ,\n",
              "        -0.5       , -0.5       , -0.5       ],\n",
              "       [-0.5       , -0.5       , -0.5       , -0.5       , -0.5       ,\n",
              "        -0.5       , -0.5       , -0.5       , -0.5       , -0.5       ,\n",
              "        -0.5       , -0.5       , -0.5       , -0.5       , -0.5       ,\n",
              "        -0.5       , -0.5       , -0.5       , -0.5       , -0.5       ,\n",
              "        -0.5       , -0.5       , -0.5       , -0.5       , -0.5       ,\n",
              "        -0.5       , -0.5       , -0.5       ],\n",
              "       [-0.5       , -0.5       , -0.5       , -0.5       , -0.5       ,\n",
              "        -0.5       , -0.5       , -0.5       , -0.5       , -0.5       ,\n",
              "        -0.5       , -0.5       , -0.5       , -0.5       , -0.5       ,\n",
              "        -0.5       , -0.5       , -0.5       , -0.5       , -0.5       ,\n",
              "        -0.5       , -0.5       , -0.5       , -0.5       , -0.5       ,\n",
              "        -0.5       , -0.5       , -0.5       ],\n",
              "       [-0.5       , -0.5       , -0.5       , -0.5       , -0.5       ,\n",
              "        -0.5       , -0.5       , -0.5       , -0.5       , -0.5       ,\n",
              "        -0.5       , -0.5       , -0.5       , -0.5       , -0.5       ,\n",
              "        -0.5       , -0.5       , -0.5       , -0.5       , -0.5       ,\n",
              "        -0.5       , -0.5       , -0.5       , -0.5       , -0.5       ,\n",
              "        -0.5       , -0.5       , -0.5       ],\n",
              "       [-0.5       , -0.5       , -0.5       , -0.5       , -0.5       ,\n",
              "        -0.5       , -0.5       , -0.5       , -0.5       , -0.5       ,\n",
              "        -0.5       , -0.5       , -0.5       , -0.5       , -0.5       ,\n",
              "        -0.5       , -0.5       , -0.5       , -0.5       , -0.5       ,\n",
              "        -0.5       , -0.5       , -0.5       , -0.5       , -0.5       ,\n",
              "        -0.5       , -0.5       , -0.5       ],\n",
              "       [-0.5       , -0.5       , -0.5       , -0.5       , -0.5       ,\n",
              "        -0.5       , -0.5       , -0.5       , -0.5       , -0.5       ,\n",
              "        -0.5       , -0.5       , -0.5       , -0.5       , -0.5       ,\n",
              "        -0.5       , -0.5       , -0.5       , -0.5       , -0.5       ,\n",
              "        -0.5       , -0.5       , -0.5       , -0.5       , -0.5       ,\n",
              "        -0.5       , -0.5       , -0.5       ],\n",
              "       [-0.5       , -0.5       , -0.5       , -0.5       , -0.5       ,\n",
              "        -0.5       , -0.17058824,  0.2254902 ,  0.12352941,  0.09215686,\n",
              "        -0.26470588, -0.35882353, -0.5       , -0.5       , -0.5       ,\n",
              "        -0.5       , -0.5       , -0.5       , -0.5       , -0.5       ,\n",
              "        -0.5       , -0.5       , -0.5       , -0.5       , -0.5       ,\n",
              "        -0.5       , -0.5       , -0.5       ],\n",
              "       [-0.5       , -0.5       , -0.5       , -0.5       , -0.5       ,\n",
              "        -0.5       ,  0.37058824,  0.49607843,  0.49607843,  0.49607843,\n",
              "         0.49607843,  0.44509804,  0.27647059,  0.27647059,  0.27647059,\n",
              "         0.27647059,  0.27647059,  0.27647059,  0.27647059,  0.27647059,\n",
              "         0.16666667, -0.29607843, -0.5       , -0.5       , -0.5       ,\n",
              "        -0.5       , -0.5       , -0.5       ],\n",
              "       [-0.5       , -0.5       , -0.5       , -0.5       , -0.5       ,\n",
              "        -0.5       , -0.2372549 , -0.05294118, -0.21764706, -0.05294118,\n",
              "         0.13921569,  0.39019608,  0.49607843,  0.38235294,  0.49607843,\n",
              "         0.49607843,  0.49607843,  0.48039216,  0.39803922,  0.49607843,\n",
              "         0.49607843,  0.04901961, -0.5       , -0.5       , -0.5       ,\n",
              "        -0.5       , -0.5       , -0.5       ],\n",
              "       [-0.5       , -0.5       , -0.5       , -0.5       , -0.5       ,\n",
              "        -0.5       , -0.5       , -0.5       , -0.5       , -0.5       ,\n",
              "        -0.5       , -0.43333333, -0.24117647, -0.44509804, -0.2372549 ,\n",
              "        -0.2372549 , -0.2372549 , -0.26862745, -0.41764706,  0.4254902 ,\n",
              "         0.49607843, -0.08431373, -0.5       , -0.5       , -0.5       ,\n",
              "        -0.5       , -0.5       , -0.5       ],\n",
              "       [-0.5       , -0.5       , -0.5       , -0.5       , -0.5       ,\n",
              "        -0.5       , -0.5       , -0.5       , -0.5       , -0.5       ,\n",
              "        -0.5       , -0.5       , -0.5       , -0.5       , -0.5       ,\n",
              "        -0.5       , -0.5       , -0.5       , -0.1745098 ,  0.49215686,\n",
              "         0.31960784, -0.42941176, -0.5       , -0.5       , -0.5       ,\n",
              "        -0.5       , -0.5       , -0.5       ],\n",
              "       [-0.5       , -0.5       , -0.5       , -0.5       , -0.5       ,\n",
              "        -0.5       , -0.5       , -0.5       , -0.5       , -0.5       ,\n",
              "        -0.5       , -0.5       , -0.5       , -0.5       , -0.5       ,\n",
              "        -0.5       , -0.5       , -0.41372549,  0.41372549,  0.5       ,\n",
              "        -0.1745098 , -0.5       , -0.5       , -0.5       , -0.5       ,\n",
              "        -0.5       , -0.5       , -0.5       ],\n",
              "       [-0.5       , -0.5       , -0.5       , -0.5       , -0.5       ,\n",
              "        -0.5       , -0.5       , -0.5       , -0.5       , -0.5       ,\n",
              "        -0.5       , -0.5       , -0.5       , -0.5       , -0.5       ,\n",
              "        -0.5       , -0.5       ,  0.00588235,  0.49607843,  0.43333333,\n",
              "        -0.32745098, -0.5       , -0.5       , -0.5       , -0.5       ,\n",
              "        -0.5       , -0.5       , -0.5       ],\n",
              "       [-0.5       , -0.5       , -0.5       , -0.5       , -0.5       ,\n",
              "        -0.5       , -0.5       , -0.5       , -0.5       , -0.5       ,\n",
              "        -0.5       , -0.5       , -0.5       , -0.5       , -0.5       ,\n",
              "        -0.5       , -0.26862745,  0.47647059,  0.49607843, -0.25686275,\n",
              "        -0.5       , -0.5       , -0.5       , -0.5       , -0.5       ,\n",
              "        -0.5       , -0.5       , -0.5       ],\n",
              "       [-0.5       , -0.5       , -0.5       , -0.5       , -0.5       ,\n",
              "        -0.5       , -0.5       , -0.5       , -0.5       , -0.5       ,\n",
              "        -0.5       , -0.5       , -0.5       , -0.5       , -0.5       ,\n",
              "        -0.5       ,  0.02156863,  0.49607843,  0.23333333, -0.48039216,\n",
              "        -0.5       , -0.5       , -0.5       , -0.5       , -0.5       ,\n",
              "        -0.5       , -0.5       , -0.5       ],\n",
              "       [-0.5       , -0.5       , -0.5       , -0.5       , -0.5       ,\n",
              "        -0.5       , -0.5       , -0.5       , -0.5       , -0.5       ,\n",
              "        -0.5       , -0.5       , -0.5       , -0.5       , -0.5       ,\n",
              "        -0.46470588,  0.30392157,  0.47254902, -0.27254902, -0.5       ,\n",
              "        -0.5       , -0.5       , -0.5       , -0.5       , -0.5       ,\n",
              "        -0.5       , -0.5       , -0.5       ],\n",
              "       [-0.5       , -0.5       , -0.5       , -0.5       , -0.5       ,\n",
              "        -0.5       , -0.5       , -0.5       , -0.5       , -0.5       ,\n",
              "        -0.5       , -0.5       , -0.5       , -0.5       , -0.5       ,\n",
              "        -0.00588235,  0.49607843,  0.21372549, -0.5       , -0.5       ,\n",
              "        -0.5       , -0.5       , -0.5       , -0.5       , -0.5       ,\n",
              "        -0.5       , -0.5       , -0.5       ],\n",
              "       [-0.5       , -0.5       , -0.5       , -0.5       , -0.5       ,\n",
              "        -0.5       , -0.5       , -0.5       , -0.5       , -0.5       ,\n",
              "        -0.5       , -0.5       , -0.5       , -0.5       , -0.20588235,\n",
              "         0.48431373,  0.44117647, -0.27647059, -0.5       , -0.5       ,\n",
              "        -0.5       , -0.5       , -0.5       , -0.5       , -0.5       ,\n",
              "        -0.5       , -0.5       , -0.5       ],\n",
              "       [-0.5       , -0.5       , -0.5       , -0.5       , -0.5       ,\n",
              "        -0.5       , -0.5       , -0.5       , -0.5       , -0.5       ,\n",
              "        -0.5       , -0.5       , -0.5       , -0.4254902 ,  0.36666667,\n",
              "         0.49607843,  0.15098039, -0.5       , -0.5       , -0.5       ,\n",
              "        -0.5       , -0.5       , -0.5       , -0.5       , -0.5       ,\n",
              "        -0.5       , -0.5       , -0.5       ],\n",
              "       [-0.5       , -0.5       , -0.5       , -0.5       , -0.5       ,\n",
              "        -0.5       , -0.5       , -0.5       , -0.5       , -0.5       ,\n",
              "        -0.5       , -0.5       , -0.48823529,  0.29607843,  0.49607843,\n",
              "         0.35882353, -0.3627451 , -0.5       , -0.5       , -0.5       ,\n",
              "        -0.5       , -0.5       , -0.5       , -0.5       , -0.5       ,\n",
              "        -0.5       , -0.5       , -0.5       ],\n",
              "       [-0.5       , -0.5       , -0.5       , -0.5       , -0.5       ,\n",
              "        -0.5       , -0.5       , -0.5       , -0.5       , -0.5       ,\n",
              "        -0.5       , -0.5       , -0.35098039,  0.49607843,  0.49607843,\n",
              "        -0.19803922, -0.5       , -0.5       , -0.5       , -0.5       ,\n",
              "        -0.5       , -0.5       , -0.5       , -0.5       , -0.5       ,\n",
              "        -0.5       , -0.5       , -0.5       ],\n",
              "       [-0.5       , -0.5       , -0.5       , -0.5       , -0.5       ,\n",
              "        -0.5       , -0.5       , -0.5       , -0.5       , -0.5       ,\n",
              "        -0.5       , -0.37843137,  0.37843137,  0.49607843, -0.04901961,\n",
              "        -0.49607843, -0.5       , -0.5       , -0.5       , -0.5       ,\n",
              "        -0.5       , -0.5       , -0.5       , -0.5       , -0.5       ,\n",
              "        -0.5       , -0.5       , -0.5       ],\n",
              "       [-0.5       , -0.5       , -0.5       , -0.5       , -0.5       ,\n",
              "        -0.5       , -0.5       , -0.5       , -0.5       , -0.5       ,\n",
              "        -0.5       ,  0.02156863,  0.49607843,  0.49607843, -0.29607843,\n",
              "        -0.5       , -0.5       , -0.5       , -0.5       , -0.5       ,\n",
              "        -0.5       , -0.5       , -0.5       , -0.5       , -0.5       ,\n",
              "        -0.5       , -0.5       , -0.5       ],\n",
              "       [-0.5       , -0.5       , -0.5       , -0.5       , -0.5       ,\n",
              "        -0.5       , -0.5       , -0.5       , -0.5       , -0.5       ,\n",
              "        -0.26078431,  0.44901961,  0.49607843,  0.49607843, -0.29607843,\n",
              "        -0.5       , -0.5       , -0.5       , -0.5       , -0.5       ,\n",
              "        -0.5       , -0.5       , -0.5       , -0.5       , -0.5       ,\n",
              "        -0.5       , -0.5       , -0.5       ],\n",
              "       [-0.5       , -0.5       , -0.5       , -0.5       , -0.5       ,\n",
              "        -0.5       , -0.5       , -0.5       , -0.5       , -0.5       ,\n",
              "        -0.0254902 ,  0.49607843,  0.49607843,  0.35882353, -0.34313725,\n",
              "        -0.5       , -0.5       , -0.5       , -0.5       , -0.5       ,\n",
              "        -0.5       , -0.5       , -0.5       , -0.5       , -0.5       ,\n",
              "        -0.5       , -0.5       , -0.5       ],\n",
              "       [-0.5       , -0.5       , -0.5       , -0.5       , -0.5       ,\n",
              "        -0.5       , -0.5       , -0.5       , -0.5       , -0.5       ,\n",
              "        -0.0254902 ,  0.49607843,  0.31176471, -0.42941176, -0.5       ,\n",
              "        -0.5       , -0.5       , -0.5       , -0.5       , -0.5       ,\n",
              "        -0.5       , -0.5       , -0.5       , -0.5       , -0.5       ,\n",
              "        -0.5       , -0.5       , -0.5       ],\n",
              "       [-0.5       , -0.5       , -0.5       , -0.5       , -0.5       ,\n",
              "        -0.5       , -0.5       , -0.5       , -0.5       , -0.5       ,\n",
              "        -0.5       , -0.5       , -0.5       , -0.5       , -0.5       ,\n",
              "        -0.5       , -0.5       , -0.5       , -0.5       , -0.5       ,\n",
              "        -0.5       , -0.5       , -0.5       , -0.5       , -0.5       ,\n",
              "        -0.5       , -0.5       , -0.5       ]])"
            ]
          },
          "metadata": {
            "tags": []
          },
          "execution_count": 45
        }
      ]
    },
    {
      "cell_type": "code",
      "metadata": {
        "id": "OpmO2TBaMatY",
        "colab_type": "code",
        "colab": {
          "base_uri": "https://localhost:8080/",
          "height": 269
        },
        "outputId": "d600c3e1-63c2-4643-ad94-5ee5bd84c994"
      },
      "source": [
        "%matplotlib inline\n",
        "import matplotlib.pyplot as plt\n",
        "first_image = test_images[5]\n",
        "plt.imshow(first_image.reshape((28,28)), cmap='gray')\n",
        "plt.show()"
      ],
      "execution_count": 59,
      "outputs": [
        {
          "output_type": "display_data",
          "data": {
            "image/png": "[encoded data removed]",
            "text/plain": [
              "<Figure size 432x288 with 1 Axes>"
            ]
          },
          "metadata": {
            "tags": []
          }
        }
      ]
    },
    {
      "cell_type": "code",
      "metadata": {
        "id": "0B82KWZeWw2N",
        "colab_type": "code",
        "colab": {
          "base_uri": "https://localhost:8080/",
          "height": 34
        },
        "outputId": "41fca0f5-6a14-4cc1-e2c6-8a126b784400"
      },
      "source": [
        "#checking whether the image showing value is right or wrong\n",
        "np.argmax(model.predict(test_images[78].reshape((-1,784))))\n"
      ],
      "execution_count": 54,
      "outputs": [
        {
          "output_type": "execute_result",
          "data": {
            "text/plain": [
              "9"
            ]
          },
          "metadata": {
            "tags": []
          },
          "execution_count": 54
        }
      ]
    },
    {
      "cell_type": "code",
      "metadata": {
        "id": "akYfRfY_XcfW",
        "colab_type": "code",
        "colab": {}
      },
      "source": [
        "## Saving the model in the disk\n",
        "model.save_weights(\"digit_classification\")\n"
      ],
      "execution_count": 0,
      "outputs": []
    },
    {
      "cell_type": "code",
      "metadata": {
        "id": "AzhDQ3tCXcYH",
        "colab_type": "code",
        "colab": {}
      },
      "source": [
        "# Loading the model from disk later using:\n",
        "model.load_weights(\"digit_classification\")\n"
      ],
      "execution_count": 0,
      "outputs": []
    },
    {
      "cell_type": "code",
      "metadata": {
        "id": "3AbseQakXcSC",
        "colab_type": "code",
        "colab": {}
      },
      "source": [
        "## pridicting the first five test images\n",
        "predictions = model.predict(test_images[:5])"
      ],
      "execution_count": 0,
      "outputs": []
    },
    {
      "cell_type": "code",
      "metadata": {
        "id": "kAzFlxETWwqc",
        "colab_type": "code",
        "colab": {
          "base_uri": "https://localhost:8080/",
          "height": 34
        },
        "outputId": "dddefb98-c540-4501-f7fc-6428b115d026"
      },
      "source": [
        "##printing the model's predictions\n",
        "print(np.argmax(predictions, axis =1))"
      ],
      "execution_count": 60,
      "outputs": [
        {
          "output_type": "stream",
          "text": [
            "[7 2 1 0 4]\n"
          ],
          "name": "stdout"
        }
      ]
    },
    {
      "cell_type": "code",
      "metadata": {
        "id": "0i90vyk2Z0fe",
        "colab_type": "code",
        "colab": {
          "base_uri": "https://localhost:8080/",
          "height": 34
        },
        "outputId": "4843bb61-fc1e-4431-ba66-6e1e7ac390d4"
      },
      "source": [
        "##Checking predictions against the ground truth\n",
        "print(test_labels[:5])"
      ],
      "execution_count": 61,
      "outputs": [
        {
          "output_type": "stream",
          "text": [
            "[7 2 1 0 4]\n"
          ],
          "name": "stdout"
        }
      ]
    }
  ]
}